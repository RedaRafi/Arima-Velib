{
  "nbformat": 4,
  "nbformat_minor": 0,
  "metadata": {
    "colab": {
      "name": "Machine learning Velib.ipynb",
      "provenance": [],
      "collapsed_sections": []
    },
    "kernelspec": {
      "name": "python3",
      "display_name": "Python 3"
    }
  },
  "cells": [
    {
      "cell_type": "code",
      "metadata": {
        "id": "0sYOzpo-672q"
      },
      "source": [
        "import pandas as pd\r\n",
        "import numpy as np "
      ],
      "execution_count": null,
      "outputs": []
    },
    {
      "cell_type": "code",
      "metadata": {
        "colab": {
          "base_uri": "https://localhost:8080/",
          "height": 204
        },
        "id": "RhaWhxeQ7niQ",
        "outputId": "56679a15-9961-4ec1-811a-769b19214040"
      },
      "source": [
        "data = pd.read_csv('/content/drive/MyDrive/2020/DATA Annalytics/Project Velo Lib/bikes.csv')\r\n",
        "data.head()"
      ],
      "execution_count": null,
      "outputs": [
        {
          "output_type": "execute_result",
          "data": {
            "text/html": [
              "<div>\n",
              "<style scoped>\n",
              "    .dataframe tbody tr th:only-of-type {\n",
              "        vertical-align: middle;\n",
              "    }\n",
              "\n",
              "    .dataframe tbody tr th {\n",
              "        vertical-align: top;\n",
              "    }\n",
              "\n",
              "    .dataframe thead th {\n",
              "        text-align: right;\n",
              "    }\n",
              "</style>\n",
              "<table border=\"1\" class=\"dataframe\">\n",
              "  <thead>\n",
              "    <tr style=\"text-align: right;\">\n",
              "      <th></th>\n",
              "      <th>status</th>\n",
              "      <th>contract_name</th>\n",
              "      <th>name</th>\n",
              "      <th>bonus</th>\n",
              "      <th>bike_stands</th>\n",
              "      <th>number</th>\n",
              "      <th>last_update</th>\n",
              "      <th>available_bike_stands</th>\n",
              "      <th>banking</th>\n",
              "      <th>available_bikes</th>\n",
              "      <th>address</th>\n",
              "      <th>lat</th>\n",
              "      <th>lng</th>\n",
              "    </tr>\n",
              "  </thead>\n",
              "  <tbody>\n",
              "    <tr>\n",
              "      <th>0</th>\n",
              "      <td>CLOSED</td>\n",
              "      <td>Santander</td>\n",
              "      <td>001_JARDINES DE PEREDA</td>\n",
              "      <td>False</td>\n",
              "      <td>40</td>\n",
              "      <td>1</td>\n",
              "      <td>1500531758000</td>\n",
              "      <td>10</td>\n",
              "      <td>True</td>\n",
              "      <td>30</td>\n",
              "      <td>Jardines de Pereda (Aprox. Correos y Castelar)</td>\n",
              "      <td>43.461719</td>\n",
              "      <td>-3.8021</td>\n",
              "    </tr>\n",
              "    <tr>\n",
              "      <th>1</th>\n",
              "      <td>CLOSED</td>\n",
              "      <td>Santander</td>\n",
              "      <td>001_JARDINES DE PEREDA</td>\n",
              "      <td>False</td>\n",
              "      <td>40</td>\n",
              "      <td>1</td>\n",
              "      <td>1500532021000</td>\n",
              "      <td>10</td>\n",
              "      <td>True</td>\n",
              "      <td>30</td>\n",
              "      <td>Jardines de Pereda (Aprox. Correos y Castelar)</td>\n",
              "      <td>43.461719</td>\n",
              "      <td>-3.8021</td>\n",
              "    </tr>\n",
              "    <tr>\n",
              "      <th>2</th>\n",
              "      <td>CLOSED</td>\n",
              "      <td>Santander</td>\n",
              "      <td>001_JARDINES DE PEREDA</td>\n",
              "      <td>False</td>\n",
              "      <td>40</td>\n",
              "      <td>1</td>\n",
              "      <td>1500532163000</td>\n",
              "      <td>10</td>\n",
              "      <td>True</td>\n",
              "      <td>30</td>\n",
              "      <td>Jardines de Pereda (Aprox. Correos y Castelar)</td>\n",
              "      <td>43.461719</td>\n",
              "      <td>-3.8021</td>\n",
              "    </tr>\n",
              "    <tr>\n",
              "      <th>3</th>\n",
              "      <td>CLOSED</td>\n",
              "      <td>Santander</td>\n",
              "      <td>001_JARDINES DE PEREDA</td>\n",
              "      <td>False</td>\n",
              "      <td>40</td>\n",
              "      <td>1</td>\n",
              "      <td>1500532179000</td>\n",
              "      <td>10</td>\n",
              "      <td>True</td>\n",
              "      <td>30</td>\n",
              "      <td>Jardines de Pereda (Aprox. Correos y Castelar)</td>\n",
              "      <td>43.461719</td>\n",
              "      <td>-3.8021</td>\n",
              "    </tr>\n",
              "    <tr>\n",
              "      <th>4</th>\n",
              "      <td>CLOSED</td>\n",
              "      <td>Santander</td>\n",
              "      <td>001_JARDINES DE PEREDA</td>\n",
              "      <td>False</td>\n",
              "      <td>40</td>\n",
              "      <td>1</td>\n",
              "      <td>1500532381000</td>\n",
              "      <td>10</td>\n",
              "      <td>True</td>\n",
              "      <td>30</td>\n",
              "      <td>Jardines de Pereda (Aprox. Correos y Castelar)</td>\n",
              "      <td>43.461719</td>\n",
              "      <td>-3.8021</td>\n",
              "    </tr>\n",
              "  </tbody>\n",
              "</table>\n",
              "</div>"
            ],
            "text/plain": [
              "   status contract_name  ...        lat     lng\n",
              "0  CLOSED     Santander  ...  43.461719 -3.8021\n",
              "1  CLOSED     Santander  ...  43.461719 -3.8021\n",
              "2  CLOSED     Santander  ...  43.461719 -3.8021\n",
              "3  CLOSED     Santander  ...  43.461719 -3.8021\n",
              "4  CLOSED     Santander  ...  43.461719 -3.8021\n",
              "\n",
              "[5 rows x 13 columns]"
            ]
          },
          "metadata": {
            "tags": []
          },
          "execution_count": 2
        }
      ]
    },
    {
      "cell_type": "code",
      "metadata": {
        "id": "Vha3n72L7vz0"
      },
      "source": [
        "data[\"last_update_datetime\"] = pd.to_datetime(data[\"last_update\"], unit='ms')\r\n",
        "data[\"time\"] = data['last_update_datetime'].map(lambda x: x.strftime('%H'))\r\n",
        "data=data.sort_values(['last_update'])\r\n",
        "# data = data.groupby(by=['name'])\r\n",
        "# data.loc[\"last_update\"].plot()"
      ],
      "execution_count": null,
      "outputs": []
    },
    {
      "cell_type": "code",
      "metadata": {
        "colab": {
          "base_uri": "https://localhost:8080/"
        },
        "id": "4OLVcLLL8ocf",
        "outputId": "de835991-ebe6-471f-d593-53d579b2c9c6"
      },
      "source": [
        "data =pd.DataFrame(data,columns=['name','bike_stands','time','available_bike_stands','available_bikes'])\r\n",
        "data.dtypes"
      ],
      "execution_count": null,
      "outputs": [
        {
          "output_type": "execute_result",
          "data": {
            "text/plain": [
              "name                     object\n",
              "bike_stands               int64\n",
              "time                     object\n",
              "available_bike_stands     int64\n",
              "available_bikes           int64\n",
              "dtype: object"
            ]
          },
          "metadata": {
            "tags": []
          },
          "execution_count": 4
        }
      ]
    },
    {
      "cell_type": "code",
      "metadata": {
        "id": "ziChasd8IZ6t",
        "colab": {
          "base_uri": "https://localhost:8080/"
        },
        "outputId": "85d63fa8-22df-41b8-e771-87a25be60b1e"
      },
      "source": [
        "from sklearn import preprocessing\r\n",
        "#creating labelEncoder\r\n",
        "le = preprocessing.LabelEncoder()\r\n",
        "# Converting string labels into numbers.\r\n",
        "data['name']=le.fit_transform(data['name'])\r\n",
        "data['available_bike_stands'][data['available_bike_stands'] > 0] = 1\r\n",
        "data['available_bikes'][data['available_bikes'] > 0] = 1"
      ],
      "execution_count": null,
      "outputs": [
        {
          "output_type": "stream",
          "text": [
            "/usr/local/lib/python3.7/dist-packages/ipykernel_launcher.py:6: SettingWithCopyWarning: \n",
            "A value is trying to be set on a copy of a slice from a DataFrame\n",
            "\n",
            "See the caveats in the documentation: https://pandas.pydata.org/pandas-docs/stable/user_guide/indexing.html#returning-a-view-versus-a-copy\n",
            "  \n",
            "/usr/local/lib/python3.7/dist-packages/ipykernel_launcher.py:7: SettingWithCopyWarning: \n",
            "A value is trying to be set on a copy of a slice from a DataFrame\n",
            "\n",
            "See the caveats in the documentation: https://pandas.pydata.org/pandas-docs/stable/user_guide/indexing.html#returning-a-view-versus-a-copy\n",
            "  import sys\n"
          ],
          "name": "stderr"
        }
      ]
    },
    {
      "cell_type": "code",
      "metadata": {
        "id": "INfFrzOUI1m-"
      },
      "source": [
        "data.loc[ data['available_bike_stands'] > 0 , 'available_bike_stands'] = 1\r\n",
        "data.loc[ data['available_bikes'] > 0 , 'available_bikes'] = 1"
      ],
      "execution_count": null,
      "outputs": []
    },
    {
      "cell_type": "code",
      "metadata": {
        "colab": {
          "base_uri": "https://localhost:8080/",
          "height": 419
        },
        "id": "TgndcXGN71Ox",
        "outputId": "d38b4e3f-2c86-468d-80ad-6348c2d840d0"
      },
      "source": [
        "X = data.groupby(by=data['available_bike_stands'])\r\n",
        "X = X.get_group(0)\r\n",
        "X"
      ],
      "execution_count": null,
      "outputs": [
        {
          "output_type": "execute_result",
          "data": {
            "text/html": [
              "<div>\n",
              "<style scoped>\n",
              "    .dataframe tbody tr th:only-of-type {\n",
              "        vertical-align: middle;\n",
              "    }\n",
              "\n",
              "    .dataframe tbody tr th {\n",
              "        vertical-align: top;\n",
              "    }\n",
              "\n",
              "    .dataframe thead th {\n",
              "        text-align: right;\n",
              "    }\n",
              "</style>\n",
              "<table border=\"1\" class=\"dataframe\">\n",
              "  <thead>\n",
              "    <tr style=\"text-align: right;\">\n",
              "      <th></th>\n",
              "      <th>name</th>\n",
              "      <th>bike_stands</th>\n",
              "      <th>time</th>\n",
              "      <th>available_bike_stands</th>\n",
              "      <th>available_bikes</th>\n",
              "    </tr>\n",
              "  </thead>\n",
              "  <tbody>\n",
              "    <tr>\n",
              "      <th>362580</th>\n",
              "      <td>10</td>\n",
              "      <td>25</td>\n",
              "      <td>16</td>\n",
              "      <td>0</td>\n",
              "      <td>1</td>\n",
              "    </tr>\n",
              "    <tr>\n",
              "      <th>362581</th>\n",
              "      <td>10</td>\n",
              "      <td>25</td>\n",
              "      <td>16</td>\n",
              "      <td>0</td>\n",
              "      <td>1</td>\n",
              "    </tr>\n",
              "    <tr>\n",
              "      <th>362582</th>\n",
              "      <td>10</td>\n",
              "      <td>25</td>\n",
              "      <td>16</td>\n",
              "      <td>0</td>\n",
              "      <td>1</td>\n",
              "    </tr>\n",
              "    <tr>\n",
              "      <th>362583</th>\n",
              "      <td>10</td>\n",
              "      <td>25</td>\n",
              "      <td>16</td>\n",
              "      <td>0</td>\n",
              "      <td>1</td>\n",
              "    </tr>\n",
              "    <tr>\n",
              "      <th>362584</th>\n",
              "      <td>10</td>\n",
              "      <td>25</td>\n",
              "      <td>16</td>\n",
              "      <td>0</td>\n",
              "      <td>1</td>\n",
              "    </tr>\n",
              "    <tr>\n",
              "      <th>...</th>\n",
              "      <td>...</td>\n",
              "      <td>...</td>\n",
              "      <td>...</td>\n",
              "      <td>...</td>\n",
              "      <td>...</td>\n",
              "    </tr>\n",
              "    <tr>\n",
              "      <th>145359</th>\n",
              "      <td>3</td>\n",
              "      <td>20</td>\n",
              "      <td>10</td>\n",
              "      <td>0</td>\n",
              "      <td>1</td>\n",
              "    </tr>\n",
              "    <tr>\n",
              "      <th>145360</th>\n",
              "      <td>3</td>\n",
              "      <td>20</td>\n",
              "      <td>11</td>\n",
              "      <td>0</td>\n",
              "      <td>1</td>\n",
              "    </tr>\n",
              "    <tr>\n",
              "      <th>145361</th>\n",
              "      <td>3</td>\n",
              "      <td>20</td>\n",
              "      <td>11</td>\n",
              "      <td>0</td>\n",
              "      <td>1</td>\n",
              "    </tr>\n",
              "    <tr>\n",
              "      <th>145362</th>\n",
              "      <td>3</td>\n",
              "      <td>20</td>\n",
              "      <td>11</td>\n",
              "      <td>0</td>\n",
              "      <td>1</td>\n",
              "    </tr>\n",
              "    <tr>\n",
              "      <th>145363</th>\n",
              "      <td>3</td>\n",
              "      <td>20</td>\n",
              "      <td>11</td>\n",
              "      <td>0</td>\n",
              "      <td>1</td>\n",
              "    </tr>\n",
              "  </tbody>\n",
              "</table>\n",
              "<p>7887 rows × 5 columns</p>\n",
              "</div>"
            ],
            "text/plain": [
              "        name  bike_stands time  available_bike_stands  available_bikes\n",
              "362580    10           25   16                      0                1\n",
              "362581    10           25   16                      0                1\n",
              "362582    10           25   16                      0                1\n",
              "362583    10           25   16                      0                1\n",
              "362584    10           25   16                      0                1\n",
              "...      ...          ...  ...                    ...              ...\n",
              "145359     3           20   10                      0                1\n",
              "145360     3           20   11                      0                1\n",
              "145361     3           20   11                      0                1\n",
              "145362     3           20   11                      0                1\n",
              "145363     3           20   11                      0                1\n",
              "\n",
              "[7887 rows x 5 columns]"
            ]
          },
          "metadata": {
            "tags": []
          },
          "execution_count": 29
        }
      ]
    },
    {
      "cell_type": "code",
      "metadata": {
        "id": "_EZC0h6z72tU"
      },
      "source": [
        "X=data[['name','bike_stands','time','available_bikes']]\r\n",
        "y=data['available_bike_stands']"
      ],
      "execution_count": null,
      "outputs": []
    },
    {
      "cell_type": "code",
      "metadata": {
        "id": "TuUmwmRj8FU-"
      },
      "source": [
        "from sklearn.model_selection import train_test_split\r\n",
        "\r\n",
        "# Split dataset into training set and test set\r\n",
        "X_train, X_test, y_train, y_test = train_test_split(X, y, test_size=0.3, random_state=42)  # 70% training and 30% test"
      ],
      "execution_count": null,
      "outputs": []
    },
    {
      "cell_type": "code",
      "metadata": {
        "id": "fOCPaolO8HoC"
      },
      "source": [
        "from sklearn.ensemble import GradientBoostingClassifier\r\n",
        "\r\n",
        "#Create Gradient Boosting Classifier\r\n",
        "gradient_model = GradientBoostingClassifier()\r\n",
        "\r\n",
        "#Train the model using the training sets\r\n",
        "gradient_model.fit(X_train, y_train)\r\n",
        "\r\n",
        "#Predict the response for test dataset\r\n",
        "y_pred = gradient_model.predict(X_test)"
      ],
      "execution_count": null,
      "outputs": []
    },
    {
      "cell_type": "code",
      "metadata": {
        "colab": {
          "base_uri": "https://localhost:8080/"
        },
        "id": "NjnIwZwJ8JLI",
        "outputId": "80acbfdc-1f1b-46b3-ea1a-52ebaf391bca"
      },
      "source": [
        "#Import scikit-learn metrics module for accuracy calculation\r\n",
        "from sklearn import metrics\r\n",
        "# Model Accuracy, how often is the classifier correct?\r\n",
        "print(\"Accuracy:\",metrics.accuracy_score(y_test, y_pred))"
      ],
      "execution_count": null,
      "outputs": [
        {
          "output_type": "stream",
          "text": [
            "Accuracy: 0.9866164571777518\n"
          ],
          "name": "stdout"
        }
      ]
    },
    {
      "cell_type": "code",
      "metadata": {
        "colab": {
          "base_uri": "https://localhost:8080/"
        },
        "id": "lw7xFhmz8PbL",
        "outputId": "6cb0fc3d-03e0-42dd-d181-9a8b22732b31"
      },
      "source": [
        "gradient_model.score(X_test, y_test)"
      ],
      "execution_count": null,
      "outputs": [
        {
          "output_type": "execute_result",
          "data": {
            "text/plain": [
              "0.9866164571777518"
            ]
          },
          "metadata": {
            "tags": []
          },
          "execution_count": 11
        }
      ]
    },
    {
      "cell_type": "code",
      "metadata": {
        "id": "mcTlI-rr8VBp"
      },
      "source": [
        "# y=gb.predict_proba([['2370','1','1','16','0']])\r\n",
        "# yy=gb.predict([['2370','1','1','16','0']])\r\n",
        "# print(y,\"\\t\",yy)\r\n",
        "\r\n",
        "# x=gb.predict_proba([['1581','1','1','16','0']])\r\n",
        "# xx=gb.predict([['1581','1','1','16','0']])\r\n",
        "# print(x,\"\\t\",xx)"
      ],
      "execution_count": null,
      "outputs": []
    },
    {
      "cell_type": "code",
      "metadata": {
        "id": "odKVPoQj8xPk"
      },
      "source": [
        "from sklearn import tree\r\n",
        "clf = tree.DecisionTreeClassifier()\r\n",
        "clf = clf.fit(X_train,y_train)"
      ],
      "execution_count": null,
      "outputs": []
    },
    {
      "cell_type": "code",
      "metadata": {
        "id": "qr061r9e9LG7"
      },
      "source": [
        ""
      ],
      "execution_count": null,
      "outputs": []
    }
  ]
}