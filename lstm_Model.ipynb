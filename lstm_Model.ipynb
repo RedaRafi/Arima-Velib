{
  "nbformat": 4,
  "nbformat_minor": 0,
  "metadata": {
    "colab": {
      "name": "lstm 62,41 %Model.ipynb",
      "provenance": [],
      "collapsed_sections": []
    },
    "kernelspec": {
      "display_name": "Python 3",
      "name": "python3"
    },
    "accelerator": "GPU"
  },
  "cells": [
    {
      "cell_type": "code",
      "metadata": {
        "id": "ZhFDknpbuD-M"
      },
      "source": [
        "from sklearn import preprocessing\r\n",
        "import pandas as pd\r\n",
        "import numpy as np \r\n",
        "\r\n"
      ],
      "execution_count": null,
      "outputs": []
    },
    {
      "cell_type": "code",
      "metadata": {
        "colab": {
          "base_uri": "https://localhost:8080/",
          "height": 204
        },
        "id": "TaqmQcAsuaxp",
        "outputId": "1ebc136e-3533-4f59-a113-7d80ca5a178f"
      },
      "source": [
        "data = pd.read_csv('/content/drive/MyDrive/2020/DATA Annalytics/Project Velo Lib/out.csv')\r\n",
        "data.head()"
      ],
      "execution_count": null,
      "outputs": [
        {
          "output_type": "execute_result",
          "data": {
            "text/html": [
              "<div>\n",
              "<style scoped>\n",
              "    .dataframe tbody tr th:only-of-type {\n",
              "        vertical-align: middle;\n",
              "    }\n",
              "\n",
              "    .dataframe tbody tr th {\n",
              "        vertical-align: top;\n",
              "    }\n",
              "\n",
              "    .dataframe thead th {\n",
              "        text-align: right;\n",
              "    }\n",
              "</style>\n",
              "<table border=\"1\" class=\"dataframe\">\n",
              "  <thead>\n",
              "    <tr style=\"text-align: right;\">\n",
              "      <th></th>\n",
              "      <th>status</th>\n",
              "      <th>name</th>\n",
              "      <th>bike_stands</th>\n",
              "      <th>last_update</th>\n",
              "      <th>available_bike_stands</th>\n",
              "      <th>available_bikes</th>\n",
              "      <th>lat</th>\n",
              "      <th>lng</th>\n",
              "      <th>bad_stands</th>\n",
              "      <th>time</th>\n",
              "    </tr>\n",
              "  </thead>\n",
              "  <tbody>\n",
              "    <tr>\n",
              "      <th>0</th>\n",
              "      <td>CLOSED</td>\n",
              "      <td>001_JARDINES DE PEREDA</td>\n",
              "      <td>40</td>\n",
              "      <td>2017-07-20 06:22:38</td>\n",
              "      <td>10</td>\n",
              "      <td>30</td>\n",
              "      <td>43.461719</td>\n",
              "      <td>-3.8021</td>\n",
              "      <td>0</td>\n",
              "      <td>6.366667</td>\n",
              "    </tr>\n",
              "    <tr>\n",
              "      <th>1</th>\n",
              "      <td>CLOSED</td>\n",
              "      <td>001_JARDINES DE PEREDA</td>\n",
              "      <td>40</td>\n",
              "      <td>2017-07-20 06:27:01</td>\n",
              "      <td>10</td>\n",
              "      <td>30</td>\n",
              "      <td>43.461719</td>\n",
              "      <td>-3.8021</td>\n",
              "      <td>0</td>\n",
              "      <td>6.450000</td>\n",
              "    </tr>\n",
              "    <tr>\n",
              "      <th>2</th>\n",
              "      <td>CLOSED</td>\n",
              "      <td>001_JARDINES DE PEREDA</td>\n",
              "      <td>40</td>\n",
              "      <td>2017-07-20 06:29:23</td>\n",
              "      <td>10</td>\n",
              "      <td>30</td>\n",
              "      <td>43.461719</td>\n",
              "      <td>-3.8021</td>\n",
              "      <td>0</td>\n",
              "      <td>6.483333</td>\n",
              "    </tr>\n",
              "    <tr>\n",
              "      <th>3</th>\n",
              "      <td>CLOSED</td>\n",
              "      <td>001_JARDINES DE PEREDA</td>\n",
              "      <td>40</td>\n",
              "      <td>2017-07-20 06:29:39</td>\n",
              "      <td>10</td>\n",
              "      <td>30</td>\n",
              "      <td>43.461719</td>\n",
              "      <td>-3.8021</td>\n",
              "      <td>0</td>\n",
              "      <td>6.483333</td>\n",
              "    </tr>\n",
              "    <tr>\n",
              "      <th>4</th>\n",
              "      <td>CLOSED</td>\n",
              "      <td>001_JARDINES DE PEREDA</td>\n",
              "      <td>40</td>\n",
              "      <td>2017-07-20 06:33:01</td>\n",
              "      <td>10</td>\n",
              "      <td>30</td>\n",
              "      <td>43.461719</td>\n",
              "      <td>-3.8021</td>\n",
              "      <td>0</td>\n",
              "      <td>6.550000</td>\n",
              "    </tr>\n",
              "  </tbody>\n",
              "</table>\n",
              "</div>"
            ],
            "text/plain": [
              "   status                    name  bike_stands  ...     lng  bad_stands      time\n",
              "0  CLOSED  001_JARDINES DE PEREDA           40  ... -3.8021           0  6.366667\n",
              "1  CLOSED  001_JARDINES DE PEREDA           40  ... -3.8021           0  6.450000\n",
              "2  CLOSED  001_JARDINES DE PEREDA           40  ... -3.8021           0  6.483333\n",
              "3  CLOSED  001_JARDINES DE PEREDA           40  ... -3.8021           0  6.483333\n",
              "4  CLOSED  001_JARDINES DE PEREDA           40  ... -3.8021           0  6.550000\n",
              "\n",
              "[5 rows x 10 columns]"
            ]
          },
          "metadata": {
            "tags": []
          },
          "execution_count": 2
        }
      ]
    },
    {
      "cell_type": "code",
      "metadata": {
        "colab": {
          "base_uri": "https://localhost:8080/"
        },
        "id": "GIUR47PlBVF8",
        "outputId": "65488cfa-0920-4df5-a17e-06bcf6fbf777"
      },
      "source": [
        "data.size"
      ],
      "execution_count": null,
      "outputs": [
        {
          "output_type": "execute_result",
          "data": {
            "text/plain": [
              "5822120"
            ]
          },
          "metadata": {
            "tags": []
          },
          "execution_count": 8
        }
      ]
    },
    {
      "cell_type": "code",
      "metadata": {
        "colab": {
          "base_uri": "https://localhost:8080/"
        },
        "id": "yUD9lHf0X8jh",
        "outputId": "4685fac2-5a6f-4a84-885e-905220256df2"
      },
      "source": [
        "data = data.groupby(by=[\"name\"])\r\n",
        "data.size"
      ],
      "execution_count": null,
      "outputs": [
        {
          "output_type": "execute_result",
          "data": {
            "text/plain": [
              "<bound method GroupBy.size of <pandas.core.groupby.generic.DataFrameGroupBy object at 0x7fddf745d9d0>>"
            ]
          },
          "metadata": {
            "tags": []
          },
          "execution_count": 3
        }
      ]
    },
    {
      "cell_type": "code",
      "metadata": {
        "id": "afXNdq67X8f_"
      },
      "source": [
        "\r\n",
        "p1 = data.get_group('001_JARDINES DE PEREDA')\r\n",
        "p2 = data.get_group('002_PLAZA DE LAS BRISAS')\r\n",
        "p3 = data.get_group('003_PARQUE LAS LLAMAS')\r\n",
        "p4 = data.get_group('004_CORMORÁN')\r\n",
        "p5 = data.get_group('005_GLORIETA DE LOS DELFINES')\r\n",
        "p6 = data.get_group('006_FACULDAD DE CIENCIAS')\r\n",
        "p7 = data.get_group('007_FACULTAD DE DERECHO')\r\n",
        "p8 = data.get_group('008_PLAZA DE ITALIA')\r\n",
        "p9 = data.get_group('009_AVENIDA DE LA MAGDALENA')\r\n",
        "p10 = data.get_group('010_PLAZA DE SAN MARTIN')\r\n",
        "p11 = data.get_group('011_PUERTO CHICO')\r\n",
        "p12 = data.get_group('012_CALLE ALTA')\r\n",
        "p13 = data.get_group('013_CALLE DE SAN FERNANDO')\r\n",
        "p14 = data.get_group('014_ATILANO RODRIGUEZ')\r\n",
        "p15 = data.get_group('015_AV.DE LOS CASTROS 141')\r\n",
        "p16 = data.get_group('016_SEVERO OCHOA')\r\n",
        "p17 = data.get_group('017_RUCANDIAL')\r\n"
      ],
      "execution_count": null,
      "outputs": []
    },
    {
      "cell_type": "code",
      "metadata": {
        "colab": {
          "base_uri": "https://localhost:8080/"
        },
        "id": "nPehvNpyX8dy",
        "outputId": "fd0ddc22-8cd4-47c7-c19c-32e62fcdeeb6"
      },
      "source": [
        "p17.size"
      ],
      "execution_count": null,
      "outputs": [
        {
          "output_type": "execute_result",
          "data": {
            "text/plain": [
              "363510"
            ]
          },
          "metadata": {
            "tags": []
          },
          "execution_count": 11
        }
      ]
    },
    {
      "cell_type": "code",
      "metadata": {
        "colab": {
          "base_uri": "https://localhost:8080/",
          "height": 419
        },
        "id": "Vfr7WVF6cMqK",
        "outputId": "d79cc88f-452f-4099-e3fe-1475e2501e0e"
      },
      "source": [
        "x = p1.iloc[:,4:5]\r\n",
        "x"
      ],
      "execution_count": null,
      "outputs": [
        {
          "output_type": "execute_result",
          "data": {
            "text/html": [
              "<div>\n",
              "<style scoped>\n",
              "    .dataframe tbody tr th:only-of-type {\n",
              "        vertical-align: middle;\n",
              "    }\n",
              "\n",
              "    .dataframe tbody tr th {\n",
              "        vertical-align: top;\n",
              "    }\n",
              "\n",
              "    .dataframe thead th {\n",
              "        text-align: right;\n",
              "    }\n",
              "</style>\n",
              "<table border=\"1\" class=\"dataframe\">\n",
              "  <thead>\n",
              "    <tr style=\"text-align: right;\">\n",
              "      <th></th>\n",
              "      <th>available_bike_stands</th>\n",
              "    </tr>\n",
              "  </thead>\n",
              "  <tbody>\n",
              "    <tr>\n",
              "      <th>0</th>\n",
              "      <td>10</td>\n",
              "    </tr>\n",
              "    <tr>\n",
              "      <th>1</th>\n",
              "      <td>10</td>\n",
              "    </tr>\n",
              "    <tr>\n",
              "      <th>2</th>\n",
              "      <td>10</td>\n",
              "    </tr>\n",
              "    <tr>\n",
              "      <th>3</th>\n",
              "      <td>10</td>\n",
              "    </tr>\n",
              "    <tr>\n",
              "      <th>4</th>\n",
              "      <td>10</td>\n",
              "    </tr>\n",
              "    <tr>\n",
              "      <th>...</th>\n",
              "      <td>...</td>\n",
              "    </tr>\n",
              "    <tr>\n",
              "      <th>39063</th>\n",
              "      <td>13</td>\n",
              "    </tr>\n",
              "    <tr>\n",
              "      <th>39064</th>\n",
              "      <td>13</td>\n",
              "    </tr>\n",
              "    <tr>\n",
              "      <th>39065</th>\n",
              "      <td>13</td>\n",
              "    </tr>\n",
              "    <tr>\n",
              "      <th>39066</th>\n",
              "      <td>13</td>\n",
              "    </tr>\n",
              "    <tr>\n",
              "      <th>39067</th>\n",
              "      <td>13</td>\n",
              "    </tr>\n",
              "  </tbody>\n",
              "</table>\n",
              "<p>39063 rows × 1 columns</p>\n",
              "</div>"
            ],
            "text/plain": [
              "       available_bike_stands\n",
              "0                         10\n",
              "1                         10\n",
              "2                         10\n",
              "3                         10\n",
              "4                         10\n",
              "...                      ...\n",
              "39063                     13\n",
              "39064                     13\n",
              "39065                     13\n",
              "39066                     13\n",
              "39067                     13\n",
              "\n",
              "[39063 rows x 1 columns]"
            ]
          },
          "metadata": {
            "tags": []
          },
          "execution_count": 5
        }
      ]
    },
    {
      "cell_type": "code",
      "metadata": {
        "id": "mV0kzKjicMa3"
      },
      "source": [
        "x = x.values"
      ],
      "execution_count": null,
      "outputs": []
    },
    {
      "cell_type": "code",
      "metadata": {
        "colab": {
          "base_uri": "https://localhost:8080/"
        },
        "id": "kF7beUIjX8bK",
        "outputId": "e1157b26-e061-40f9-968b-c9e94ea454f7"
      },
      "source": [
        "x"
      ],
      "execution_count": null,
      "outputs": [
        {
          "output_type": "execute_result",
          "data": {
            "text/plain": [
              "array([[10],\n",
              "       [10],\n",
              "       [10],\n",
              "       ...,\n",
              "       [13],\n",
              "       [13],\n",
              "       [13]])"
            ]
          },
          "metadata": {
            "tags": []
          },
          "execution_count": 7
        }
      ]
    },
    {
      "cell_type": "code",
      "metadata": {
        "colab": {
          "base_uri": "https://localhost:8080/"
        },
        "id": "vng2YwuZX8Ys",
        "outputId": "9ad3808c-35e3-4fda-a440-f630b69116ac"
      },
      "source": [
        "from sklearn.preprocessing import StandardScaler\r\n",
        "scaler = StandardScaler()\r\n",
        "x = scaler.fit_transform(x) \r\n",
        "x.shape"
      ],
      "execution_count": null,
      "outputs": [
        {
          "output_type": "execute_result",
          "data": {
            "text/plain": [
              "(39063, 1)"
            ]
          },
          "metadata": {
            "tags": []
          },
          "execution_count": 8
        }
      ]
    },
    {
      "cell_type": "code",
      "metadata": {
        "colab": {
          "base_uri": "https://localhost:8080/"
        },
        "id": "aM5dvlCjPyte",
        "outputId": "ad055b08-6d33-4daa-fc96-b2313267d17e"
      },
      "source": [
        "y = x[60:]\r\n",
        "y.shape"
      ],
      "execution_count": null,
      "outputs": [
        {
          "output_type": "execute_result",
          "data": {
            "text/plain": [
              "(39003, 1)"
            ]
          },
          "metadata": {
            "tags": []
          },
          "execution_count": 9
        }
      ]
    },
    {
      "cell_type": "code",
      "metadata": {
        "colab": {
          "base_uri": "https://localhost:8080/"
        },
        "id": "yLF-jY4lPyp_",
        "outputId": "fdeed4f8-7fd4-4a02-d2e5-db008bf157a1"
      },
      "source": [
        "y"
      ],
      "execution_count": null,
      "outputs": [
        {
          "output_type": "execute_result",
          "data": {
            "text/plain": [
              "array([[ 1.27504996],\n",
              "       [ 1.41325916],\n",
              "       [ 1.41325916],\n",
              "       ...,\n",
              "       [-0.65987876],\n",
              "       [-0.65987876],\n",
              "       [-0.65987876]])"
            ]
          },
          "metadata": {
            "tags": []
          },
          "execution_count": 10
        }
      ]
    },
    {
      "cell_type": "code",
      "metadata": {
        "id": "hssr8-aCX8WI"
      },
      "source": [
        "p11 = []\r\n",
        "for i in range(60,39063,1):\r\n",
        "  p11.append(x[i-60:i, :])\r\n",
        "p11 = np.array(p11)"
      ],
      "execution_count": null,
      "outputs": []
    },
    {
      "cell_type": "code",
      "metadata": {
        "colab": {
          "base_uri": "https://localhost:8080/"
        },
        "id": "EQf5tZhRX8Tx",
        "outputId": "15c88c30-b942-491c-e03a-d6bfc52d2156"
      },
      "source": [
        "p11.shape"
      ],
      "execution_count": null,
      "outputs": [
        {
          "output_type": "execute_result",
          "data": {
            "text/plain": [
              "(39003, 60, 1)"
            ]
          },
          "metadata": {
            "tags": []
          },
          "execution_count": 12
        }
      ]
    },
    {
      "cell_type": "code",
      "metadata": {
        "colab": {
          "base_uri": "https://localhost:8080/"
        },
        "id": "0YWqSFYy--oa",
        "outputId": "91651e44-8bd8-478c-8179-1c822cafe18c"
      },
      "source": [
        "from sklearn.model_selection import train_test_split\r\n",
        "x_train , x_test,y_train, y_test = train_test_split(p11,y,test_size=0.2)\r\n",
        "x_train.shape"
      ],
      "execution_count": null,
      "outputs": [
        {
          "output_type": "execute_result",
          "data": {
            "text/plain": [
              "(31202, 60, 1)"
            ]
          },
          "metadata": {
            "tags": []
          },
          "execution_count": 13
        }
      ]
    },
    {
      "cell_type": "code",
      "metadata": {
        "colab": {
          "base_uri": "https://localhost:8080/"
        },
        "id": "AKPf6FS20YsM",
        "outputId": "3a132897-7a33-4bce-cf0a-710dc83d8f23"
      },
      "source": [
        "y_train.shape"
      ],
      "execution_count": null,
      "outputs": [
        {
          "output_type": "execute_result",
          "data": {
            "text/plain": [
              "(31202, 1)"
            ]
          },
          "metadata": {
            "tags": []
          },
          "execution_count": 21
        }
      ]
    },
    {
      "cell_type": "code",
      "metadata": {
        "id": "XlZ6oD0YSNiF"
      },
      "source": [
        "from keras.models import Sequential\r\n",
        "from keras.layers import Dense,LSTM,Dropout\r\n",
        "from tensorflow import keras"
      ],
      "execution_count": null,
      "outputs": []
    },
    {
      "cell_type": "code",
      "metadata": {
        "id": "vdHl8fe8SNed"
      },
      "source": [
        "Classifier = Sequential()\r\n",
        " "
      ],
      "execution_count": null,
      "outputs": []
    },
    {
      "cell_type": "code",
      "metadata": {
        "id": "18oiHTukSNcP"
      },
      "source": [
        " \r\n",
        "Classifier.add(LSTM(units = 50, return_sequences=True, input_shape = (x_train.shape[1],1)))\r\n",
        "Classifier.add(Dropout(0.2))\r\n"
      ],
      "execution_count": null,
      "outputs": []
    },
    {
      "cell_type": "code",
      "metadata": {
        "id": "GqVV8-m3Tg9P"
      },
      "source": [
        "Classifier.add(LSTM(units = 50, return_sequences=True))\r\n",
        "Classifier.add(Dropout(0.2))"
      ],
      "execution_count": null,
      "outputs": []
    },
    {
      "cell_type": "code",
      "metadata": {
        "id": "NQl90OjITi2r"
      },
      "source": [
        "Classifier.add(LSTM(units = 50, return_sequences=True))\r\n",
        "Classifier.add(Dropout(0.2))"
      ],
      "execution_count": null,
      "outputs": []
    },
    {
      "cell_type": "code",
      "metadata": {
        "id": "0K5-9o0WSNZy"
      },
      "source": [
        "Classifier.add(LSTM(units = 50, return_sequences=True))\r\n",
        "Classifier.add(Dropout(0.2))"
      ],
      "execution_count": null,
      "outputs": []
    },
    {
      "cell_type": "code",
      "metadata": {
        "id": "c9sMMKbiNNFt"
      },
      "source": [
        "Classifier.add(Dense(1, activation='relu'))"
      ],
      "execution_count": null,
      "outputs": []
    },
    {
      "cell_type": "code",
      "metadata": {
        "id": "MerCok7-NNCW"
      },
      "source": [
        "Classifier.compile(loss='mean_squared_error',optimizer='adam')"
      ],
      "execution_count": null,
      "outputs": []
    },
    {
      "cell_type": "code",
      "metadata": {
        "colab": {
          "base_uri": "https://localhost:8080/"
        },
        "id": "UJnlcBFFNM_9",
        "outputId": "44c0998c-a13b-4c38-a409-6628906b6c10"
      },
      "source": [
        "Classifier.fit(x_train,y_train,epochs=10,batch_size=1,verbose=2)"
      ],
      "execution_count": null,
      "outputs": [
        {
          "output_type": "stream",
          "text": [
            "Epoch 1/10\n",
            "31202/31202 - 268s - loss: 0.6707\n",
            "Epoch 2/10\n",
            "31202/31202 - 256s - loss: 0.6594\n",
            "Epoch 3/10\n",
            "31202/31202 - 254s - loss: 0.6547\n",
            "Epoch 4/10\n",
            "31202/31202 - 255s - loss: 0.6496\n",
            "Epoch 5/10\n",
            "31202/31202 - 255s - loss: 0.6452\n",
            "Epoch 6/10\n",
            "31202/31202 - 254s - loss: 0.6410\n",
            "Epoch 7/10\n",
            "31202/31202 - 254s - loss: 0.6372\n",
            "Epoch 8/10\n",
            "31202/31202 - 255s - loss: 0.6343\n",
            "Epoch 9/10\n",
            "31202/31202 - 254s - loss: 0.6312\n",
            "Epoch 10/10\n",
            "31202/31202 - 254s - loss: 0.6289\n"
          ],
          "name": "stdout"
        },
        {
          "output_type": "execute_result",
          "data": {
            "text/plain": [
              "<tensorflow.python.keras.callbacks.History at 0x7f00820d9d30>"
            ]
          },
          "metadata": {
            "tags": []
          },
          "execution_count": 30
        }
      ]
    },
    {
      "cell_type": "code",
      "metadata": {
        "id": "KbXCgTjKNM9V",
        "colab": {
          "base_uri": "https://localhost:8080/"
        },
        "outputId": "87e55a59-680c-4db1-81f9-36203093ecbe"
      },
      "source": [
        "scores = Classifier.evaluate(x_train,y_train,verbose=0)\r\n",
        "print(\"%s: %.2f%%\" % (Classifier.metrics_names, scores*100))"
      ],
      "execution_count": null,
      "outputs": [
        {
          "output_type": "stream",
          "text": [
            "['loss']: 62.41%\n"
          ],
          "name": "stdout"
        }
      ]
    },
    {
      "cell_type": "code",
      "metadata": {
        "colab": {
          "base_uri": "https://localhost:8080/"
        },
        "id": "acYk0VG6Ti8x",
        "outputId": "10107d66-f849-42b9-b225-a1629002e38d"
      },
      "source": [
        "print(Classifier.summary())"
      ],
      "execution_count": null,
      "outputs": [
        {
          "output_type": "stream",
          "text": [
            "Model: \"sequential\"\n",
            "_________________________________________________________________\n",
            "Layer (type)                 Output Shape              Param #   \n",
            "=================================================================\n",
            "lstm (LSTM)                  (None, 60, 50)            10400     \n",
            "_________________________________________________________________\n",
            "dropout (Dropout)            (None, 60, 50)            0         \n",
            "_________________________________________________________________\n",
            "lstm_1 (LSTM)                (None, 60, 50)            20200     \n",
            "_________________________________________________________________\n",
            "dropout_1 (Dropout)          (None, 60, 50)            0         \n",
            "_________________________________________________________________\n",
            "lstm_2 (LSTM)                (None, 60, 50)            20200     \n",
            "_________________________________________________________________\n",
            "dropout_2 (Dropout)          (None, 60, 50)            0         \n",
            "_________________________________________________________________\n",
            "lstm_3 (LSTM)                (None, 60, 50)            20200     \n",
            "_________________________________________________________________\n",
            "dropout_3 (Dropout)          (None, 60, 50)            0         \n",
            "_________________________________________________________________\n",
            "dense (Dense)                (None, 60, 1)             51        \n",
            "=================================================================\n",
            "Total params: 71,051\n",
            "Trainable params: 71,051\n",
            "Non-trainable params: 0\n",
            "_________________________________________________________________\n",
            "None\n"
          ],
          "name": "stdout"
        }
      ]
    },
    {
      "cell_type": "code",
      "metadata": {
        "id": "FUVJ9bGsSSiz"
      },
      "source": [
        "Classifier.compile(loss='binary_crossentropy',optimizer='rmsprop',metrics=['accuracy'])\r\n"
      ],
      "execution_count": null,
      "outputs": []
    },
    {
      "cell_type": "code",
      "metadata": {
        "id": "YoewlxvXNM6x"
      },
      "source": [
        "Classifier.save_weights('/content/drive/MyDrive/2020/DATA Annalytics/Project Velo Lib/classifier_weights_10_1.h5')\r\n",
        "Classifier.save('/content/drive/MyDrive/2020/DATA Annalytics/Project Velo Lib/model_10_1.h5')"
      ],
      "execution_count": null,
      "outputs": []
    },
    {
      "cell_type": "code",
      "metadata": {
        "id": "O6cr1nONiH40"
      },
      "source": [
        "Classifier = keras.models.load_model('/content/drive/MyDrive/2020/DATA Annalytics/Project Velo Lib/model_10_1.h5')"
      ],
      "execution_count": null,
      "outputs": []
    },
    {
      "cell_type": "code",
      "metadata": {
        "colab": {
          "base_uri": "https://localhost:8080/"
        },
        "id": "Q9gjlJaKZH7t",
        "outputId": "68ce330f-7aab-4bdf-c250-0847ce7de21a"
      },
      "source": [
        "# make predictions\r\n",
        "yhat = Classifier.predict(x_test, verbose=0)\r\n",
        "yhat = yhat[:,-1,:]\r\n",
        "print(yhat)"
      ],
      "execution_count": null,
      "outputs": [
        {
          "output_type": "stream",
          "text": [
            "[[0.41427392]\n",
            " [0.        ]\n",
            " [0.9400347 ]\n",
            " ...\n",
            " [0.9974896 ]\n",
            " [0.3791558 ]\n",
            " [1.0783732 ]]\n"
          ],
          "name": "stdout"
        }
      ]
    },
    {
      "cell_type": "code",
      "metadata": {
        "id": "tcEqDn-jaFA2"
      },
      "source": [
        "yhat = scaler.inverse_transform(yhat)\r\n",
        "y_test = scaler.inverse_transform(y_test)"
      ],
      "execution_count": null,
      "outputs": []
    },
    {
      "cell_type": "code",
      "metadata": {
        "colab": {
          "base_uri": "https://localhost:8080/"
        },
        "id": "RPIDkOL1lJI-",
        "outputId": "c1ae6d41-e388-4b5e-d7ae-4a42ed0a028e"
      },
      "source": [
        "y = y_test[:100]\r\n",
        "x = yhat[:100]\r\n",
        "x.shape"
      ],
      "execution_count": null,
      "outputs": [
        {
          "output_type": "execute_result",
          "data": {
            "text/plain": [
              "(100, 1)"
            ]
          },
          "metadata": {
            "tags": []
          },
          "execution_count": 36
        }
      ]
    },
    {
      "cell_type": "code",
      "metadata": {
        "colab": {
          "base_uri": "https://localhost:8080/",
          "height": 265
        },
        "id": "zhYlqnIDZqTN",
        "outputId": "412c1fe4-a8b1-499a-cfe4-b60a34ec566c"
      },
      "source": [
        "import matplotlib.pyplot as plot\r\n",
        "import matplotlib.pyplot as plt \r\n",
        "plt.plot(y,color='green')\r\n",
        "plt.plot(x)\r\n",
        "plot.show()"
      ],
      "execution_count": null,
      "outputs": [
        {
          "output_type": "display_data",
          "data": {
            "image/png": "[encoded data removed]",
            "text/plain": [
              "<Figure size 432x288 with 1 Axes>"
            ]
          },
          "metadata": {
            "tags": [],
            "needs_background": "light"
          }
        }
      ]
    },
    {
      "cell_type": "code",
      "metadata": {
        "id": "dSUqDLaalgR7"
      },
      "source": [
        ""
      ],
      "execution_count": null,
      "outputs": []
    }
  ]
}